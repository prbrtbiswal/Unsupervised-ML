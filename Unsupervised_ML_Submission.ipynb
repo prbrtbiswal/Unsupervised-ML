{
  "nbformat": 4,
  "nbformat_minor": 0,
  "metadata": {
    "colab": {
      "provenance": [],
      "collapsed_sections": [
        "vncDsAP0Gaoa",
        "FJNUwmbgGyua",
        "w6K7xa23Elo4",
        "yQaldy8SH6Dl",
        "mDgbUHAGgjLW",
        "O_i_v8NEhb9l",
        "HhfV-JJviCcP",
        "Y3lxredqlCYt",
        "3RnN4peoiCZX",
        "x71ZqKXriCWQ",
        "7hBIi_osiCS2",
        "JlHwYmJAmNHm",
        "35m5QtbWiB9F",
        "PoPl-ycgm1ru",
        "H0kj-8xxnORC",
        "nA9Y7ga8ng1Z",
        "PBTbrJXOngz2",
        "u3PMJOP6ngxN",
        "dauF4eBmngu3",
        "bKJF3rekwFvQ",
        "MSa1f5Uengrz",
        "GF8Ens_Soomf",
        "0wOQAZs5pc--",
        "K5QZ13OEpz2H",
        "lQ7QKXXCp7Bj",
        "448CDAPjqfQr",
        "KSlN3yHqYklG",
        "t6dVpIINYklI",
        "ijmpgYnKYklI",
        "-JiQyfWJYklI",
        "EM7whBJCYoAo",
        "fge-S5ZAYoAp",
        "85gYPyotYoAp",
        "RoGjAbkUYoAp",
        "4Of9eVA-YrdM",
        "iky9q4vBYrdO",
        "F6T5p64dYrdO",
        "y-Ehk30pYrdP",
        "bamQiAODYuh1",
        "QHF8YVU7Yuh3",
        "GwzvFGzlYuh3",
        "qYpmQ266Yuh3",
        "OH-pJp9IphqM",
        "bbFf2-_FphqN",
        "_ouA3fa0phqN",
        "Seke61FWphqN",
        "PIIx-8_IphqN",
        "t27r6nlMphqO",
        "r2jJGEOYphqO",
        "b0JNsNcRphqO",
        "BZR9WyysphqO",
        "jj7wYXLtphqO",
        "eZrbJ2SmphqO",
        "rFu4xreNphqO",
        "YJ55k-q6phqO",
        "gCFgpxoyphqP",
        "OVtJsKN_phqQ",
        "lssrdh5qphqQ",
        "U2RJ9gkRphqQ",
        "1M8mcRywphqQ",
        "tgIPom80phqQ",
        "JMzcOPDDphqR",
        "x-EpHcCOp1ci",
        "X_VqEhTip1ck",
        "8zGJKyg5p1ck",
        "PVzmfK_Ep1ck",
        "n3dbpmDWp1ck",
        "ylSl6qgtp1ck",
        "ZWILFDl5p1ck",
        "M7G43BXep1ck",
        "Ag9LCva-p1cl",
        "E6MkPsBcp1cl",
        "2cELzS2fp1cl",
        "3MPXvC8up1cl",
        "NC_X3p0fY2L0",
        "UV0SzAkaZNRQ",
        "YPEH6qLeZNRQ",
        "q29F0dvdveiT",
        "EXh0U9oCveiU",
        "22aHeOlLveiV",
        "g-ATYxFrGrvw",
        "Yfr_Vlr8HBkt",
        "8yEUt7NnHlrM",
        "tEA2Xm5dHt1r",
        "I79__PHVH19G",
        "Ou-I18pAyIpj",
        "fF3858GYyt-u",
        "4_0_7-oCpUZd",
        "hwyV_J3ipUZe",
        "3yB-zSqbpUZe",
        "dEUvejAfpUZe",
        "Fd15vwWVpUZf",
        "bn_IUdTipZyH",
        "49K5P_iCpZyH",
        "Nff-vKELpZyI",
        "kLW572S8pZyI",
        "dWbDXHzopZyI",
        "yLjJCtPM0KBk",
        "xiyOF9F70UgQ",
        "7wuGOrhz0itI",
        "id1riN9m0vUs",
        "578E2V7j08f6",
        "89xtkJwZ18nB",
        "67NQN5KX2AMe",
        "Iwf50b-R2tYG",
        "GMQiZwjn3iu7",
        "WVIkgGqN3qsr",
        "XkPnILGE3zoT",
        "Hlsf0x5436Go",
        "mT9DMSJo4nBL",
        "c49ITxTc407N",
        "OeJFEK0N496M",
        "9ExmJH0g5HBk",
        "cJNqERVU536h",
        "k5UmGsbsOxih",
        "T0VqWOYE6DLQ",
        "qBMux9mC6MCf",
        "-oLEiFgy-5Pf",
        "C74aWNz2AliB",
        "2DejudWSA-a0",
        "pEMng2IbBLp7",
        "rAdphbQ9Bhjc",
        "TNVZ9zx19K6k",
        "nqoHp30x9hH9",
        "rMDnDkt2B6du",
        "yiiVWRdJDDil",
        "1UUpS68QDMuG",
        "kexQrXU-DjzY",
        "T5CmagL3EC8N",
        "BhH2vgX9EjGr",
        "qjKvONjwE8ra",
        "P1XJ9OREExlT",
        "VFOzZv6IFROw",
        "TIqpNgepFxVj",
        "VfCC591jGiD4",
        "OB4l2ZhMeS1U",
        "ArJBuiUVfxKd",
        "4qY1EAkEfxKe",
        "PiV4Ypx8fxKe",
        "TfvqoZmBfxKf",
        "dJ2tPlVmpsJ0",
        "JWYfwnehpsJ1",
        "-jK_YjpMpsJ2",
        "HAih1iBOpsJ2",
        "zVGeBEFhpsJ2",
        "bmKjuQ-FpsJ3",
        "Fze-IPXLpx6K",
        "7AN1z2sKpx6M",
        "9PIHJqyupx6M",
        "_-qAgymDpx6N",
        "Z-hykwinpx6N",
        "h_CCil-SKHpo",
        "cBFFvTBNJzUa",
        "HvGl1hHyA_VK",
        "EyNgTHvd2WFk",
        "KH5McJBi2d8v",
        "iW_Lq9qf2h6X",
        "-Kee-DAl2viO",
        "gCX9965dhzqZ",
        "gIfDvo9L0UH2"
      ],
      "include_colab_link": true
    },
    "kernelspec": {
      "name": "python3",
      "display_name": "Python 3"
    },
    "language_info": {
      "name": "python"
    }
  },
  "cells": [
    {
      "cell_type": "markdown",
      "metadata": {
        "id": "view-in-github",
        "colab_type": "text"
      },
      "source": [
        "<a href=\"https://colab.research.google.com/github/prbrtbiswal/Unsupervised-ML/blob/main/Unsupervised_ML_Submission.ipynb\" target=\"_parent\"><img src=\"https://colab.research.google.com/assets/colab-badge.svg\" alt=\"Open In Colab\"/></a>"
      ]
    },
    {
      "cell_type": "markdown",
      "source": [
        "# **Project Name**    - Netflix Movies and TV Shows Clustering\n",
        "\n"
      ],
      "metadata": {
        "id": "vncDsAP0Gaoa"
      }
    },
    {
      "cell_type": "markdown",
      "source": [
        "![pic 1.jpg](data:image/jpeg;base64,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)"
      ],
      "metadata": {
        "id": "TO1tQAiTwOaG"
      }
    },
    {
      "cell_type": "markdown",
      "source": [
        "##### **Project Type**    - Unsupervised\n",
        "##### **Contribution**    - Individual\n",
        "##### **Team Member 1 - Priyabrata Biswal\n"
      ],
      "metadata": {
        "id": "beRrZCGUAJYm"
      }
    },
    {
      "cell_type": "markdown",
      "source": [
        "# **Project Summary -**"
      ],
      "metadata": {
        "id": "FJNUwmbgGyua"
      }
    },
    {
      "cell_type": "markdown",
      "source": [
        "This data set consists of tv shows and movies available on netflix as of 2019.\n",
        "The dataset is collected from flexible which is a third-party Netflix Search Engine.In 2018,they realesed a interesting report which shows that the number of tv shows on Netflix has nearly tripled since 2010. The Streaming Service's number of movies has decreased by more than 2000 titles since 2010,While its number of TV Shows has nearly Tripled. It will be interesting to explore what all other insights can be obtained from the same dataset.\n",
        "  \n",
        "  Integrating this dataset with other external datasets such as IMDB ratings,\n",
        "  rotten tomatoes can also provide many interesting findings."
      ],
      "metadata": {
        "id": "F6v_1wHtG2nS"
      }
    },
    {
      "cell_type": "markdown",
      "source": [
        "# **GitHub Link -**"
      ],
      "metadata": {
        "id": "w6K7xa23Elo4"
      }
    },
    {
      "cell_type": "markdown",
      "source": [
        "https://github.com/prbrtbiswal/Unsupervised-ML"
      ],
      "metadata": {
        "id": "h1o69JH3Eqqn"
      }
    },
    {
      "cell_type": "markdown",
      "source": [
        "# **Problem Statement**\n"
      ],
      "metadata": {
        "id": "yQaldy8SH6Dl"
      }
    },
    {
      "cell_type": "markdown",
      "source": [
        "1.Netflix is the world's largest online streaming service provider, with over 220 million subscribers as of 2022-Q2. It is crucial that they effectively cluster the shows that are hosted on their platform in order to enhance the user experience, thereby preventing subscriber churn.\n",
        "2. We will be able to understand the shows that are similar to and different from one another by creating clusters, which may be leveraged to offer the consumers personalized show suggestions depending on their preferences.\n",
        "3.The goal of this project is to classify/group the Netflix shows into certain clusters such that the shows within a cluster are similar to each other and the shows in different clusters are dissimilar to each other.\n",
        "\n",
        "\n"
      ],
      "metadata": {
        "id": "DpeJGUA3kjGy"
      }
    },
    {
      "cell_type": "markdown",
      "source": [
        "# **General Guidelines** : -  "
      ],
      "metadata": {
        "id": "mDgbUHAGgjLW"
      }
    },
    {
      "cell_type": "markdown",
      "source": [
        "1.   Well-structured, formatted, and commented code is required.\n",
        "2.   Exception Handling, Production Grade Code & Deployment Ready Code will be a plus. Those students will be awarded some additional credits.\n",
        "     \n",
        "     The additional credits will have advantages over other students during Star Student selection.\n",
        "       \n",
        "             [ Note: - Deployment Ready Code is defined as, the whole .ipynb notebook should be executable in one go\n",
        "                       without a single error logged. ]\n",
        "\n",
        "3.   Each and every logic should have proper comments.\n",
        "4. You may add as many number of charts you want. Make Sure for each and every chart the following format should be answered.\n",
        "        \n",
        "\n",
        "```\n",
        "# Chart visualization code\n",
        "```\n",
        "            \n",
        "\n",
        "*   Why did you pick the specific chart?\n",
        "*   What is/are the insight(s) found from the chart?\n",
        "* Will the gained insights help creating a positive business impact?\n",
        "Are there any insights that lead to negative growth? Justify with specific reason.\n",
        "\n",
        "5. You have to create at least 15 logical & meaningful charts having important insights.\n",
        "\n",
        "\n",
        "[ Hints : - Do the Vizualization in  a structured way while following \"UBM\" Rule.\n",
        "\n",
        "U - Univariate Analysis,\n",
        "\n",
        "B - Bivariate Analysis (Numerical - Categorical, Numerical - Numerical, Categorical - Categorical)\n",
        "\n",
        "M - Multivariate Analysis\n",
        " ]\n",
        "\n",
        "\n",
        "\n",
        "\n",
        "\n",
        "6. You may add more ml algorithms for model creation. Make sure for each and every algorithm, the following format should be answered.\n",
        "\n",
        "\n",
        "*   Explain the ML Model used and it's performance using Evaluation metric Score Chart.\n",
        "\n",
        "\n",
        "*   Cross- Validation & Hyperparameter Tuning\n",
        "\n",
        "*   Have you seen any improvement? Note down the improvement with updates Evaluation metric Score Chart.\n",
        "\n",
        "*   Explain each evaluation metric's indication towards business and the business impact pf the ML model used.\n",
        "\n",
        "\n",
        "\n",
        "\n",
        "\n",
        "\n",
        "\n",
        "\n",
        "\n",
        "\n",
        "\n",
        "\n",
        "\n",
        "\n",
        "\n",
        "\n",
        "\n",
        "\n"
      ],
      "metadata": {
        "id": "ZrxVaUj-hHfC"
      }
    },
    {
      "cell_type": "markdown",
      "source": [
        "# ***Let's Begin !***"
      ],
      "metadata": {
        "id": "O_i_v8NEhb9l"
      }
    },
    {
      "cell_type": "markdown",
      "source": [
        "## ***1. Know Your Data***"
      ],
      "metadata": {
        "id": "HhfV-JJviCcP"
      }
    },
    {
      "cell_type": "markdown",
      "source": [
        "### Import Libraries"
      ],
      "metadata": {
        "id": "Y3lxredqlCYt"
      }
    },
    {
      "cell_type": "code",
      "source": [
        "# Import Libraries\n",
        "import pandas as pd\n",
        "import numpy as np\n",
        "import matplotlib.pyplot as plt\n",
        "import seaborn as sns\n",
        "from datetime import datetime as dt\n",
        "\n",
        "import warnings\n",
        "warnings.filterwarnings('ignore')\n",
        "\n",
        "from wordcloud import WordCloud, STOPWORDS\n",
        "import re, string, unicodedata\n",
        "import nltk\n",
        "#import inflect\n",
        "from bs4 import BeautifulSoup\n",
        "from nltk import word_tokenize, sent_tokenize\n",
        "from nltk.corpus import stopwords\n",
        "from nltk.stem import LancasterStemmer, WordNetLemmatizer\n",
        "from sklearn.feature_extraction.text import TfidfVectorizer\n",
        "from sklearn.decomposition import PCA\n",
        "\n",
        "from nltk.stem import WordNetLemmatizer\n",
        "nltk.download('wordnet')\n",
        "import nltk\n",
        "nltk.download('stopwords')\n",
        "from nltk.corpus import stopwords\n",
        "import string\n",
        "string.punctuation\n",
        "nltk.download('omw-1.4')\n",
        "from nltk.tokenize import TweetTokenizer\n",
        "\n",
        "from sklearn.cluster import KMeans\n",
        "from sklearn.metrics import silhouette_score\n",
        "from sklearn.cluster import AgglomerativeClustering\n",
        "import scipy.cluster.hierarchy as shc\n",
        "\n",
        "from sklearn.feature_extraction.text import CountVectorizer\n",
        "from sklearn.metrics.pairwise import cosine_similarity\n",
        "\n",
        "%matplotlib inline\n",
        "sns.set()"
      ],
      "metadata": {
        "id": "M8Vqi-pPk-HR",
        "colab": {
          "base_uri": "https://localhost:8080/"
        },
        "outputId": "a78a0e73-b710-49aa-d052-26bbc5da8a51"
      },
      "execution_count": null,
      "outputs": [
        {
          "output_type": "stream",
          "name": "stderr",
          "text": [
            "[nltk_data] Downloading package wordnet to /root/nltk_data...\n",
            "[nltk_data] Downloading package stopwords to /root/nltk_data...\n",
            "[nltk_data]   Unzipping corpora/stopwords.zip.\n",
            "[nltk_data] Downloading package omw-1.4 to /root/nltk_data...\n"
          ]
        }
      ]
    },
    {
      "cell_type": "markdown",
      "source": [
        "### Dataset Loading"
      ],
      "metadata": {
        "id": "3RnN4peoiCZX"
      }
    },
    {
      "cell_type": "code",
      "source": [
        "# Load Dataset\n"
      ],
      "metadata": {
        "id": "4CkvbW_SlZ_R"
      },
      "execution_count": null,
      "outputs": []
    },
    {
      "cell_type": "code",
      "source": [
        "from google.colab import drive\n",
        "drive.mount('/content/drive')"
      ],
      "metadata": {
        "colab": {
          "base_uri": "https://localhost:8080/"
        },
        "id": "7UwfDdcI3oMK",
        "outputId": "20e6c0be-cb8f-46c6-d989-02ef8039d588"
      },
      "execution_count": null,
      "outputs": [
        {
          "output_type": "stream",
          "name": "stdout",
          "text": [
            "Drive already mounted at /content/drive; to attempt to forcibly remount, call drive.mount(\"/content/drive\", force_remount=True).\n"
          ]
        }
      ]
    },
    {
      "cell_type": "code",
      "source": [
        "data_set=pd.read_csv('')"
      ],
      "metadata": {
        "id": "inX4-C4g34T0"
      },
      "execution_count": null,
      "outputs": []
    },
    {
      "cell_type": "markdown",
      "source": [
        "### Dataset First View"
      ],
      "metadata": {
        "id": "x71ZqKXriCWQ"
      }
    },
    {
      "cell_type": "code",
      "source": [
        "# Dataset First Look\n",
        "df.head()"
      ],
      "metadata": {
        "id": "LWNFOSvLl09H"
      },
      "execution_count": null,
      "outputs": []
    },
    {
      "cell_type": "markdown",
      "source": [
        "### Dataset Rows & Columns count"
      ],
      "metadata": {
        "id": "7hBIi_osiCS2"
      }
    },
    {
      "cell_type": "code",
      "source": [
        "# Dataset Rows & Columns count\n",
        "df.shape()"
      ],
      "metadata": {
        "id": "Kllu7SJgmLij"
      },
      "execution_count": null,
      "outputs": []
    },
    {
      "cell_type": "markdown",
      "source": [
        "### Dataset Information"
      ],
      "metadata": {
        "id": "JlHwYmJAmNHm"
      }
    },
    {
      "cell_type": "code",
      "source": [
        "# Dataset Info\n",
        "df.info()"
      ],
      "metadata": {
        "id": "e9hRXRi6meOf"
      },
      "execution_count": null,
      "outputs": []
    },
    {
      "cell_type": "markdown",
      "source": [
        "#### Duplicate Values"
      ],
      "metadata": {
        "id": "35m5QtbWiB9F"
      }
    },
    {
      "cell_type": "code",
      "source": [
        "# Dataset Duplicate Value Count\n",
        "df.duplicated.value_counts()"
      ],
      "metadata": {
        "id": "1sLdpKYkmox0"
      },
      "execution_count": null,
      "outputs": []
    },
    {
      "cell_type": "markdown",
      "source": [
        "#### Missing Values/Null Values"
      ],
      "metadata": {
        "id": "PoPl-ycgm1ru"
      }
    },
    {
      "cell_type": "code",
      "source": [
        "# Missing Values/Null Values Count\n",
        "df.isna().sum()"
      ],
      "metadata": {
        "id": "GgHWkxvamxVg"
      },
      "execution_count": null,
      "outputs": []
    },
    {
      "cell_type": "code",
      "source": [
        "# Visualizing the missing values\n",
        "plt.figure(figsize=(10,5))\n",
        "sns.heatmap(df.isnull(), cbar=False)"
      ],
      "metadata": {
        "id": "3q5wnI3om9sJ"
      },
      "execution_count": null,
      "outputs": []
    },
    {
      "cell_type": "markdown",
      "source": [
        "### What did you know about your dataset?"
      ],
      "metadata": {
        "id": "H0kj-8xxnORC"
      }
    },
    {
      "cell_type": "markdown",
      "source": [
        "Answer Here"
      ],
      "metadata": {
        "id": "gfoNAAC-nUe_"
      }
    },
    {
      "cell_type": "markdown",
      "source": [
        "## ***2. Understanding Your Variables***"
      ],
      "metadata": {
        "id": "nA9Y7ga8ng1Z"
      }
    },
    {
      "cell_type": "code",
      "source": [
        "# Dataset Columns"
      ],
      "metadata": {
        "id": "j7xfkqrt5Ag5"
      },
      "execution_count": null,
      "outputs": []
    },
    {
      "cell_type": "code",
      "source": [
        "# Dataset Describe"
      ],
      "metadata": {
        "id": "DnOaZdaE5Q5t"
      },
      "execution_count": null,
      "outputs": []
    },
    {
      "cell_type": "markdown",
      "source": [
        "### Variables Description"
      ],
      "metadata": {
        "id": "PBTbrJXOngz2"
      }
    },
    {
      "cell_type": "markdown",
      "source": [
        "Answer Here"
      ],
      "metadata": {
        "id": "aJV4KIxSnxay"
      }
    },
    {
      "cell_type": "markdown",
      "source": [
        "### Check Unique Values for each variable."
      ],
      "metadata": {
        "id": "u3PMJOP6ngxN"
      }
    },
    {
      "cell_type": "code",
      "source": [
        "# Check Unique Values for each variable."
      ],
      "metadata": {
        "id": "zms12Yq5n-jE"
      },
      "execution_count": null,
      "outputs": []
    },
    {
      "cell_type": "markdown",
      "source": [
        "## 3. ***Data Wrangling***"
      ],
      "metadata": {
        "id": "dauF4eBmngu3"
      }
    },
    {
      "cell_type": "markdown",
      "source": [
        "### Data Wrangling Code"
      ],
      "metadata": {
        "id": "bKJF3rekwFvQ"
      }
    },
    {
      "cell_type": "code",
      "source": [
        "# Write your code to make your dataset analysis ready."
      ],
      "metadata": {
        "id": "wk-9a2fpoLcV"
      },
      "execution_count": null,
      "outputs": []
    },
    {
      "cell_type": "markdown",
      "source": [
        "### What all manipulations have you done and insights you found?"
      ],
      "metadata": {
        "id": "MSa1f5Uengrz"
      }
    },
    {
      "cell_type": "markdown",
      "source": [
        "Answer Here."
      ],
      "metadata": {
        "id": "LbyXE7I1olp8"
      }
    },
    {
      "cell_type": "markdown",
      "source": [
        "## ***4. Data Vizualization, Storytelling & Experimenting with charts : Understand the relationships between variables***"
      ],
      "metadata": {
        "id": "GF8Ens_Soomf"
      }
    },
    {
      "cell_type": "markdown",
      "source": [
        "#### Chart - 1"
      ],
      "metadata": {
        "id": "0wOQAZs5pc--"
      }
    },
    {
      "cell_type": "code",
      "source": [
        "# Chart - 1 visualization code"
      ],
      "metadata": {
        "id": "7v_ESjsspbW7"
      },
      "execution_count": null,
      "outputs": []
    },
    {
      "cell_type": "markdown",
      "source": [
        "##### 1. Why did you pick the specific chart?"
      ],
      "metadata": {
        "id": "K5QZ13OEpz2H"
      }
    },
    {
      "cell_type": "markdown",
      "source": [
        "Answer Here."
      ],
      "metadata": {
        "id": "XESiWehPqBRc"
      }
    },
    {
      "cell_type": "markdown",
      "source": [
        "##### 2. What is/are the insight(s) found from the chart?"
      ],
      "metadata": {
        "id": "lQ7QKXXCp7Bj"
      }
    },
    {
      "cell_type": "markdown",
      "source": [
        "Answer Here"
      ],
      "metadata": {
        "id": "C_j1G7yiqdRP"
      }
    },
    {
      "cell_type": "markdown",
      "source": [
        "##### 3. Will the gained insights help creating a positive business impact?\n",
        "Are there any insights that lead to negative growth? Justify with specific reason."
      ],
      "metadata": {
        "id": "448CDAPjqfQr"
      }
    },
    {
      "cell_type": "markdown",
      "source": [
        "Answer Here"
      ],
      "metadata": {
        "id": "3cspy4FjqxJW"
      }
    },
    {
      "cell_type": "markdown",
      "source": [
        "#### Chart - 2"
      ],
      "metadata": {
        "id": "KSlN3yHqYklG"
      }
    },
    {
      "cell_type": "code",
      "source": [
        "# Chart - 2 visualization code"
      ],
      "metadata": {
        "id": "R4YgtaqtYklH"
      },
      "execution_count": null,
      "outputs": []
    },
    {
      "cell_type": "markdown",
      "source": [
        "##### 1. Why did you pick the specific chart?"
      ],
      "metadata": {
        "id": "t6dVpIINYklI"
      }
    },
    {
      "cell_type": "markdown",
      "source": [
        "Answer Here."
      ],
      "metadata": {
        "id": "5aaW0BYyYklI"
      }
    },
    {
      "cell_type": "markdown",
      "source": [
        "##### 2. What is/are the insight(s) found from the chart?"
      ],
      "metadata": {
        "id": "ijmpgYnKYklI"
      }
    },
    {
      "cell_type": "markdown",
      "source": [
        "Answer Here"
      ],
      "metadata": {
        "id": "PSx9atu2YklI"
      }
    },
    {
      "cell_type": "markdown",
      "source": [
        "##### 3. Will the gained insights help creating a positive business impact?\n",
        "Are there any insights that lead to negative growth? Justify with specific reason."
      ],
      "metadata": {
        "id": "-JiQyfWJYklI"
      }
    },
    {
      "cell_type": "markdown",
      "source": [
        "Answer Here"
      ],
      "metadata": {
        "id": "BcBbebzrYklV"
      }
    },
    {
      "cell_type": "markdown",
      "source": [
        "#### Chart - 3"
      ],
      "metadata": {
        "id": "EM7whBJCYoAo"
      }
    },
    {
      "cell_type": "code",
      "source": [
        "# Chart - 3 visualization code"
      ],
      "metadata": {
        "id": "t6GMdE67YoAp"
      },
      "execution_count": null,
      "outputs": []
    },
    {
      "cell_type": "markdown",
      "source": [
        "##### 1. Why did you pick the specific chart?"
      ],
      "metadata": {
        "id": "fge-S5ZAYoAp"
      }
    },
    {
      "cell_type": "markdown",
      "source": [
        "Answer Here."
      ],
      "metadata": {
        "id": "5dBItgRVYoAp"
      }
    },
    {
      "cell_type": "markdown",
      "source": [
        "##### 2. What is/are the insight(s) found from the chart?"
      ],
      "metadata": {
        "id": "85gYPyotYoAp"
      }
    },
    {
      "cell_type": "markdown",
      "source": [
        "Answer Here"
      ],
      "metadata": {
        "id": "4jstXR6OYoAp"
      }
    },
    {
      "cell_type": "markdown",
      "source": [
        "##### 3. Will the gained insights help creating a positive business impact?\n",
        "Are there any insights that lead to negative growth? Justify with specific reason."
      ],
      "metadata": {
        "id": "RoGjAbkUYoAp"
      }
    },
    {
      "cell_type": "markdown",
      "source": [
        "Answer Here"
      ],
      "metadata": {
        "id": "zfJ8IqMcYoAp"
      }
    },
    {
      "cell_type": "markdown",
      "source": [
        "#### Chart - 4"
      ],
      "metadata": {
        "id": "4Of9eVA-YrdM"
      }
    },
    {
      "cell_type": "code",
      "source": [
        "# Chart - 4 visualization code"
      ],
      "metadata": {
        "id": "irlUoxc8YrdO"
      },
      "execution_count": null,
      "outputs": []
    },
    {
      "cell_type": "markdown",
      "source": [
        "##### 1. Why did you pick the specific chart?"
      ],
      "metadata": {
        "id": "iky9q4vBYrdO"
      }
    },
    {
      "cell_type": "markdown",
      "source": [
        "Answer Here."
      ],
      "metadata": {
        "id": "aJRCwT6DYrdO"
      }
    },
    {
      "cell_type": "markdown",
      "source": [
        "##### 2. What is/are the insight(s) found from the chart?"
      ],
      "metadata": {
        "id": "F6T5p64dYrdO"
      }
    },
    {
      "cell_type": "markdown",
      "source": [
        "Answer Here"
      ],
      "metadata": {
        "id": "Xx8WAJvtYrdO"
      }
    },
    {
      "cell_type": "markdown",
      "source": [
        "##### 3. Will the gained insights help creating a positive business impact?\n",
        "Are there any insights that lead to negative growth? Justify with specific reason."
      ],
      "metadata": {
        "id": "y-Ehk30pYrdP"
      }
    },
    {
      "cell_type": "markdown",
      "source": [
        "Answer Here"
      ],
      "metadata": {
        "id": "jLNxxz7MYrdP"
      }
    },
    {
      "cell_type": "markdown",
      "source": [
        "#### Chart - 5"
      ],
      "metadata": {
        "id": "bamQiAODYuh1"
      }
    },
    {
      "cell_type": "code",
      "source": [
        "# Chart - 5 visualization code"
      ],
      "metadata": {
        "id": "TIJwrbroYuh3"
      },
      "execution_count": null,
      "outputs": []
    },
    {
      "cell_type": "markdown",
      "source": [
        "##### 1. Why did you pick the specific chart?"
      ],
      "metadata": {
        "id": "QHF8YVU7Yuh3"
      }
    },
    {
      "cell_type": "markdown",
      "source": [
        "Answer Here."
      ],
      "metadata": {
        "id": "dcxuIMRPYuh3"
      }
    },
    {
      "cell_type": "markdown",
      "source": [
        "##### 2. What is/are the insight(s) found from the chart?"
      ],
      "metadata": {
        "id": "GwzvFGzlYuh3"
      }
    },
    {
      "cell_type": "markdown",
      "source": [
        "Answer Here"
      ],
      "metadata": {
        "id": "uyqkiB8YYuh3"
      }
    },
    {
      "cell_type": "markdown",
      "source": [
        "##### 3. Will the gained insights help creating a positive business impact?\n",
        "Are there any insights that lead to negative growth? Justify with specific reason."
      ],
      "metadata": {
        "id": "qYpmQ266Yuh3"
      }
    },
    {
      "cell_type": "markdown",
      "source": [
        "Answer Here"
      ],
      "metadata": {
        "id": "_WtzZ_hCYuh4"
      }
    },
    {
      "cell_type": "markdown",
      "source": [
        "#### Chart - 6"
      ],
      "metadata": {
        "id": "OH-pJp9IphqM"
      }
    },
    {
      "cell_type": "code",
      "source": [
        "# Chart - 6 visualization code"
      ],
      "metadata": {
        "id": "kuRf4wtuphqN"
      },
      "execution_count": null,
      "outputs": []
    },
    {
      "cell_type": "markdown",
      "source": [
        "##### 1. Why did you pick the specific chart?"
      ],
      "metadata": {
        "id": "bbFf2-_FphqN"
      }
    },
    {
      "cell_type": "markdown",
      "source": [
        "Answer Here."
      ],
      "metadata": {
        "id": "loh7H2nzphqN"
      }
    },
    {
      "cell_type": "markdown",
      "source": [
        "##### 2. What is/are the insight(s) found from the chart?"
      ],
      "metadata": {
        "id": "_ouA3fa0phqN"
      }
    },
    {
      "cell_type": "markdown",
      "source": [
        "Answer Here"
      ],
      "metadata": {
        "id": "VECbqPI7phqN"
      }
    },
    {
      "cell_type": "markdown",
      "source": [
        "##### 3. Will the gained insights help creating a positive business impact?\n",
        "Are there any insights that lead to negative growth? Justify with specific reason."
      ],
      "metadata": {
        "id": "Seke61FWphqN"
      }
    },
    {
      "cell_type": "markdown",
      "source": [
        "Answer Here"
      ],
      "metadata": {
        "id": "DW4_bGpfphqN"
      }
    },
    {
      "cell_type": "markdown",
      "source": [
        "#### Chart - 7"
      ],
      "metadata": {
        "id": "PIIx-8_IphqN"
      }
    },
    {
      "cell_type": "code",
      "source": [
        "# Chart - 7 visualization code"
      ],
      "metadata": {
        "id": "lqAIGUfyphqO"
      },
      "execution_count": null,
      "outputs": []
    },
    {
      "cell_type": "markdown",
      "source": [
        "##### 1. Why did you pick the specific chart?"
      ],
      "metadata": {
        "id": "t27r6nlMphqO"
      }
    },
    {
      "cell_type": "markdown",
      "source": [
        "Answer Here."
      ],
      "metadata": {
        "id": "iv6ro40sphqO"
      }
    },
    {
      "cell_type": "markdown",
      "source": [
        "##### 2. What is/are the insight(s) found from the chart?"
      ],
      "metadata": {
        "id": "r2jJGEOYphqO"
      }
    },
    {
      "cell_type": "markdown",
      "source": [
        "Answer Here"
      ],
      "metadata": {
        "id": "Po6ZPi4hphqO"
      }
    },
    {
      "cell_type": "markdown",
      "source": [
        "##### 3. Will the gained insights help creating a positive business impact?\n",
        "Are there any insights that lead to negative growth? Justify with specific reason."
      ],
      "metadata": {
        "id": "b0JNsNcRphqO"
      }
    },
    {
      "cell_type": "markdown",
      "source": [
        "Answer Here"
      ],
      "metadata": {
        "id": "xvSq8iUTphqO"
      }
    },
    {
      "cell_type": "markdown",
      "source": [
        "#### Chart - 8"
      ],
      "metadata": {
        "id": "BZR9WyysphqO"
      }
    },
    {
      "cell_type": "code",
      "source": [
        "# Chart - 8 visualization code"
      ],
      "metadata": {
        "id": "TdPTWpAVphqO"
      },
      "execution_count": null,
      "outputs": []
    },
    {
      "cell_type": "markdown",
      "source": [
        "##### 1. Why did you pick the specific chart?"
      ],
      "metadata": {
        "id": "jj7wYXLtphqO"
      }
    },
    {
      "cell_type": "markdown",
      "source": [
        "Answer Here."
      ],
      "metadata": {
        "id": "Ob8u6rCTphqO"
      }
    },
    {
      "cell_type": "markdown",
      "source": [
        "##### 2. What is/are the insight(s) found from the chart?"
      ],
      "metadata": {
        "id": "eZrbJ2SmphqO"
      }
    },
    {
      "cell_type": "markdown",
      "source": [
        "Answer Here"
      ],
      "metadata": {
        "id": "mZtgC_hjphqO"
      }
    },
    {
      "cell_type": "markdown",
      "source": [
        "##### 3. Will the gained insights help creating a positive business impact?\n",
        "Are there any insights that lead to negative growth? Justify with specific reason."
      ],
      "metadata": {
        "id": "rFu4xreNphqO"
      }
    },
    {
      "cell_type": "markdown",
      "source": [
        "Answer Here"
      ],
      "metadata": {
        "id": "ey_0qi68phqO"
      }
    },
    {
      "cell_type": "markdown",
      "source": [
        "#### Chart - 9"
      ],
      "metadata": {
        "id": "YJ55k-q6phqO"
      }
    },
    {
      "cell_type": "code",
      "source": [
        "# Chart - 9 visualization code"
      ],
      "metadata": {
        "id": "B2aS4O1ophqO"
      },
      "execution_count": null,
      "outputs": []
    },
    {
      "cell_type": "markdown",
      "source": [
        "##### 1. Why did you pick the specific chart?"
      ],
      "metadata": {
        "id": "gCFgpxoyphqP"
      }
    },
    {
      "cell_type": "markdown",
      "source": [
        "Answer Here."
      ],
      "metadata": {
        "id": "TVxDimi2phqP"
      }
    },
    {
      "cell_type": "markdown",
      "source": [
        "##### 2. What is/are the insight(s) found from the chart?"
      ],
      "metadata": {
        "id": "OVtJsKN_phqQ"
      }
    },
    {
      "cell_type": "markdown",
      "source": [
        "Answer Here"
      ],
      "metadata": {
        "id": "ngGi97qjphqQ"
      }
    },
    {
      "cell_type": "markdown",
      "source": [
        "##### 3. Will the gained insights help creating a positive business impact?\n",
        "Are there any insights that lead to negative growth? Justify with specific reason."
      ],
      "metadata": {
        "id": "lssrdh5qphqQ"
      }
    },
    {
      "cell_type": "markdown",
      "source": [
        "Answer Here"
      ],
      "metadata": {
        "id": "tBpY5ekJphqQ"
      }
    },
    {
      "cell_type": "markdown",
      "source": [
        "#### Chart - 10"
      ],
      "metadata": {
        "id": "U2RJ9gkRphqQ"
      }
    },
    {
      "cell_type": "code",
      "source": [
        "# Chart - 10 visualization code"
      ],
      "metadata": {
        "id": "GM7a4YP4phqQ"
      },
      "execution_count": null,
      "outputs": []
    },
    {
      "cell_type": "markdown",
      "source": [
        "##### 1. Why did you pick the specific chart?"
      ],
      "metadata": {
        "id": "1M8mcRywphqQ"
      }
    },
    {
      "cell_type": "markdown",
      "source": [
        "Answer Here."
      ],
      "metadata": {
        "id": "8agQvks0phqQ"
      }
    },
    {
      "cell_type": "markdown",
      "source": [
        "##### 2. What is/are the insight(s) found from the chart?"
      ],
      "metadata": {
        "id": "tgIPom80phqQ"
      }
    },
    {
      "cell_type": "markdown",
      "source": [
        "Answer Here"
      ],
      "metadata": {
        "id": "Qp13pnNzphqQ"
      }
    },
    {
      "cell_type": "markdown",
      "source": [
        "##### 3. Will the gained insights help creating a positive business impact?\n",
        "Are there any insights that lead to negative growth? Justify with specific reason."
      ],
      "metadata": {
        "id": "JMzcOPDDphqR"
      }
    },
    {
      "cell_type": "markdown",
      "source": [
        "Answer Here"
      ],
      "metadata": {
        "id": "R4Ka1PC2phqR"
      }
    },
    {
      "cell_type": "markdown",
      "source": [
        "#### Chart - 11"
      ],
      "metadata": {
        "id": "x-EpHcCOp1ci"
      }
    },
    {
      "cell_type": "code",
      "source": [
        "# Chart - 11 visualization code"
      ],
      "metadata": {
        "id": "mAQTIvtqp1cj"
      },
      "execution_count": null,
      "outputs": []
    },
    {
      "cell_type": "markdown",
      "source": [
        "##### 1. Why did you pick the specific chart?"
      ],
      "metadata": {
        "id": "X_VqEhTip1ck"
      }
    },
    {
      "cell_type": "markdown",
      "source": [
        "Answer Here."
      ],
      "metadata": {
        "id": "-vsMzt_np1ck"
      }
    },
    {
      "cell_type": "markdown",
      "source": [
        "##### 2. What is/are the insight(s) found from the chart?"
      ],
      "metadata": {
        "id": "8zGJKyg5p1ck"
      }
    },
    {
      "cell_type": "markdown",
      "source": [
        "Answer Here"
      ],
      "metadata": {
        "id": "ZYdMsrqVp1ck"
      }
    },
    {
      "cell_type": "markdown",
      "source": [
        "##### 3. Will the gained insights help creating a positive business impact?\n",
        "Are there any insights that lead to negative growth? Justify with specific reason."
      ],
      "metadata": {
        "id": "PVzmfK_Ep1ck"
      }
    },
    {
      "cell_type": "markdown",
      "source": [
        "Answer Here"
      ],
      "metadata": {
        "id": "druuKYZpp1ck"
      }
    },
    {
      "cell_type": "markdown",
      "source": [
        "#### Chart - 12"
      ],
      "metadata": {
        "id": "n3dbpmDWp1ck"
      }
    },
    {
      "cell_type": "code",
      "source": [
        "# Chart - 12 visualization code"
      ],
      "metadata": {
        "id": "bwevp1tKp1ck"
      },
      "execution_count": null,
      "outputs": []
    },
    {
      "cell_type": "markdown",
      "source": [
        "##### 1. Why did you pick the specific chart?"
      ],
      "metadata": {
        "id": "ylSl6qgtp1ck"
      }
    },
    {
      "cell_type": "markdown",
      "source": [
        "Answer Here."
      ],
      "metadata": {
        "id": "m2xqNkiQp1ck"
      }
    },
    {
      "cell_type": "markdown",
      "source": [
        "##### 2. What is/are the insight(s) found from the chart?"
      ],
      "metadata": {
        "id": "ZWILFDl5p1ck"
      }
    },
    {
      "cell_type": "markdown",
      "source": [
        "Answer Here"
      ],
      "metadata": {
        "id": "x-lUsV2mp1ck"
      }
    },
    {
      "cell_type": "markdown",
      "source": [
        "##### 3. Will the gained insights help creating a positive business impact?\n",
        "Are there any insights that lead to negative growth? Justify with specific reason."
      ],
      "metadata": {
        "id": "M7G43BXep1ck"
      }
    },
    {
      "cell_type": "markdown",
      "source": [
        "Answer Here"
      ],
      "metadata": {
        "id": "5wwDJXsLp1cl"
      }
    },
    {
      "cell_type": "markdown",
      "source": [
        "#### Chart - 13"
      ],
      "metadata": {
        "id": "Ag9LCva-p1cl"
      }
    },
    {
      "cell_type": "code",
      "source": [
        "# Chart - 13 visualization code"
      ],
      "metadata": {
        "id": "EUfxeq9-p1cl"
      },
      "execution_count": null,
      "outputs": []
    },
    {
      "cell_type": "markdown",
      "source": [
        "##### 1. Why did you pick the specific chart?"
      ],
      "metadata": {
        "id": "E6MkPsBcp1cl"
      }
    },
    {
      "cell_type": "markdown",
      "source": [
        "Answer Here."
      ],
      "metadata": {
        "id": "V22bRsFWp1cl"
      }
    },
    {
      "cell_type": "markdown",
      "source": [
        "##### 2. What is/are the insight(s) found from the chart?"
      ],
      "metadata": {
        "id": "2cELzS2fp1cl"
      }
    },
    {
      "cell_type": "markdown",
      "source": [
        "Answer Here"
      ],
      "metadata": {
        "id": "ozQPc2_Ip1cl"
      }
    },
    {
      "cell_type": "markdown",
      "source": [
        "##### 3. Will the gained insights help creating a positive business impact?\n",
        "Are there any insights that lead to negative growth? Justify with specific reason."
      ],
      "metadata": {
        "id": "3MPXvC8up1cl"
      }
    },
    {
      "cell_type": "markdown",
      "source": [
        "Answer Here"
      ],
      "metadata": {
        "id": "GL8l1tdLp1cl"
      }
    },
    {
      "cell_type": "markdown",
      "source": [
        "#### Chart - 14 - Correlation Heatmap"
      ],
      "metadata": {
        "id": "NC_X3p0fY2L0"
      }
    },
    {
      "cell_type": "code",
      "source": [
        "# Correlation Heatmap visualization code"
      ],
      "metadata": {
        "id": "xyC9zolEZNRQ"
      },
      "execution_count": null,
      "outputs": []
    },
    {
      "cell_type": "markdown",
      "source": [
        "##### 1. Why did you pick the specific chart?"
      ],
      "metadata": {
        "id": "UV0SzAkaZNRQ"
      }
    },
    {
      "cell_type": "markdown",
      "source": [
        "Answer Here."
      ],
      "metadata": {
        "id": "DVPuT8LYZNRQ"
      }
    },
    {
      "cell_type": "markdown",
      "source": [
        "##### 2. What is/are the insight(s) found from the chart?"
      ],
      "metadata": {
        "id": "YPEH6qLeZNRQ"
      }
    },
    {
      "cell_type": "markdown",
      "source": [
        "Answer Here"
      ],
      "metadata": {
        "id": "bfSqtnDqZNRR"
      }
    },
    {
      "cell_type": "markdown",
      "source": [
        "#### Chart - 15 - Pair Plot"
      ],
      "metadata": {
        "id": "q29F0dvdveiT"
      }
    },
    {
      "cell_type": "code",
      "source": [
        "# Pair Plot visualization code"
      ],
      "metadata": {
        "id": "o58-TEIhveiU"
      },
      "execution_count": null,
      "outputs": []
    },
    {
      "cell_type": "markdown",
      "source": [
        "##### 1. Why did you pick the specific chart?"
      ],
      "metadata": {
        "id": "EXh0U9oCveiU"
      }
    },
    {
      "cell_type": "markdown",
      "source": [
        "Answer Here."
      ],
      "metadata": {
        "id": "eMmPjTByveiU"
      }
    },
    {
      "cell_type": "markdown",
      "source": [
        "##### 2. What is/are the insight(s) found from the chart?"
      ],
      "metadata": {
        "id": "22aHeOlLveiV"
      }
    },
    {
      "cell_type": "markdown",
      "source": [
        "Answer Here"
      ],
      "metadata": {
        "id": "uPQ8RGwHveiV"
      }
    },
    {
      "cell_type": "markdown",
      "source": [
        "## ***5. Hypothesis Testing***"
      ],
      "metadata": {
        "id": "g-ATYxFrGrvw"
      }
    },
    {
      "cell_type": "markdown",
      "source": [
        "### Based on your chart experiments, define three hypothetical statements from the dataset. In the next three questions, perform hypothesis testing to obtain final conclusion about the statements through your code and statistical testing."
      ],
      "metadata": {
        "id": "Yfr_Vlr8HBkt"
      }
    },
    {
      "cell_type": "markdown",
      "source": [
        "Answer Here."
      ],
      "metadata": {
        "id": "-7MS06SUHkB-"
      }
    },
    {
      "cell_type": "markdown",
      "source": [
        "### Hypothetical Statement - 1"
      ],
      "metadata": {
        "id": "8yEUt7NnHlrM"
      }
    },
    {
      "cell_type": "markdown",
      "source": [
        "#### 1. State Your research hypothesis as a null hypothesis and alternate hypothesis."
      ],
      "metadata": {
        "id": "tEA2Xm5dHt1r"
      }
    },
    {
      "cell_type": "markdown",
      "source": [
        "Answer Here."
      ],
      "metadata": {
        "id": "HI9ZP0laH0D-"
      }
    },
    {
      "cell_type": "markdown",
      "source": [
        "#### 2. Perform an appropriate statistical test."
      ],
      "metadata": {
        "id": "I79__PHVH19G"
      }
    },
    {
      "cell_type": "code",
      "source": [
        "# Perform Statistical Test to obtain P-Value"
      ],
      "metadata": {
        "id": "oZrfquKtyian"
      },
      "execution_count": null,
      "outputs": []
    },
    {
      "cell_type": "markdown",
      "source": [
        "##### Which statistical test have you done to obtain P-Value?"
      ],
      "metadata": {
        "id": "Ou-I18pAyIpj"
      }
    },
    {
      "cell_type": "markdown",
      "source": [
        "Answer Here."
      ],
      "metadata": {
        "id": "s2U0kk00ygSB"
      }
    },
    {
      "cell_type": "markdown",
      "source": [
        "##### Why did you choose the specific statistical test?"
      ],
      "metadata": {
        "id": "fF3858GYyt-u"
      }
    },
    {
      "cell_type": "markdown",
      "source": [
        "Answer Here."
      ],
      "metadata": {
        "id": "HO4K0gP5y3B4"
      }
    },
    {
      "cell_type": "markdown",
      "source": [
        "### Hypothetical Statement - 2"
      ],
      "metadata": {
        "id": "4_0_7-oCpUZd"
      }
    },
    {
      "cell_type": "markdown",
      "source": [
        "#### 1. State Your research hypothesis as a null hypothesis and alternate hypothesis."
      ],
      "metadata": {
        "id": "hwyV_J3ipUZe"
      }
    },
    {
      "cell_type": "markdown",
      "source": [
        "Answer Here."
      ],
      "metadata": {
        "id": "FnpLGJ-4pUZe"
      }
    },
    {
      "cell_type": "markdown",
      "source": [
        "#### 2. Perform an appropriate statistical test."
      ],
      "metadata": {
        "id": "3yB-zSqbpUZe"
      }
    },
    {
      "cell_type": "code",
      "source": [
        "# Perform Statistical Test to obtain P-Value"
      ],
      "metadata": {
        "id": "sWxdNTXNpUZe"
      },
      "execution_count": null,
      "outputs": []
    },
    {
      "cell_type": "markdown",
      "source": [
        "##### Which statistical test have you done to obtain P-Value?"
      ],
      "metadata": {
        "id": "dEUvejAfpUZe"
      }
    },
    {
      "cell_type": "markdown",
      "source": [
        "Answer Here."
      ],
      "metadata": {
        "id": "oLDrPz7HpUZf"
      }
    },
    {
      "cell_type": "markdown",
      "source": [
        "##### Why did you choose the specific statistical test?"
      ],
      "metadata": {
        "id": "Fd15vwWVpUZf"
      }
    },
    {
      "cell_type": "markdown",
      "source": [
        "Answer Here."
      ],
      "metadata": {
        "id": "4xOGYyiBpUZf"
      }
    },
    {
      "cell_type": "markdown",
      "source": [
        "### Hypothetical Statement - 3"
      ],
      "metadata": {
        "id": "bn_IUdTipZyH"
      }
    },
    {
      "cell_type": "markdown",
      "source": [
        "#### 1. State Your research hypothesis as a null hypothesis and alternate hypothesis."
      ],
      "metadata": {
        "id": "49K5P_iCpZyH"
      }
    },
    {
      "cell_type": "markdown",
      "source": [
        "Answer Here."
      ],
      "metadata": {
        "id": "7gWI5rT9pZyH"
      }
    },
    {
      "cell_type": "markdown",
      "source": [
        "#### 2. Perform an appropriate statistical test."
      ],
      "metadata": {
        "id": "Nff-vKELpZyI"
      }
    },
    {
      "cell_type": "code",
      "source": [
        "# Perform Statistical Test to obtain P-Value"
      ],
      "metadata": {
        "id": "s6AnJQjtpZyI"
      },
      "execution_count": null,
      "outputs": []
    },
    {
      "cell_type": "markdown",
      "source": [
        "##### Which statistical test have you done to obtain P-Value?"
      ],
      "metadata": {
        "id": "kLW572S8pZyI"
      }
    },
    {
      "cell_type": "markdown",
      "source": [
        "Answer Here."
      ],
      "metadata": {
        "id": "ytWJ8v15pZyI"
      }
    },
    {
      "cell_type": "markdown",
      "source": [
        "##### Why did you choose the specific statistical test?"
      ],
      "metadata": {
        "id": "dWbDXHzopZyI"
      }
    },
    {
      "cell_type": "markdown",
      "source": [
        "Answer Here."
      ],
      "metadata": {
        "id": "M99G98V6pZyI"
      }
    },
    {
      "cell_type": "markdown",
      "source": [
        "## ***6. Feature Engineering & Data Pre-processing***"
      ],
      "metadata": {
        "id": "yLjJCtPM0KBk"
      }
    },
    {
      "cell_type": "markdown",
      "source": [
        "### 1. Handling Missing Values"
      ],
      "metadata": {
        "id": "xiyOF9F70UgQ"
      }
    },
    {
      "cell_type": "code",
      "source": [
        "# Handling Missing Values & Missing Value Imputation"
      ],
      "metadata": {
        "id": "iRsAHk1K0fpS"
      },
      "execution_count": null,
      "outputs": []
    },
    {
      "cell_type": "markdown",
      "source": [
        "#### What all missing value imputation techniques have you used and why did you use those techniques?"
      ],
      "metadata": {
        "id": "7wuGOrhz0itI"
      }
    },
    {
      "cell_type": "markdown",
      "source": [
        "Answer Here."
      ],
      "metadata": {
        "id": "1ixusLtI0pqI"
      }
    },
    {
      "cell_type": "markdown",
      "source": [
        "### 2. Handling Outliers"
      ],
      "metadata": {
        "id": "id1riN9m0vUs"
      }
    },
    {
      "cell_type": "code",
      "source": [
        "# Handling Outliers & Outlier treatments"
      ],
      "metadata": {
        "id": "M6w2CzZf04JK"
      },
      "execution_count": null,
      "outputs": []
    },
    {
      "cell_type": "markdown",
      "source": [
        "##### What all outlier treatment techniques have you used and why did you use those techniques?"
      ],
      "metadata": {
        "id": "578E2V7j08f6"
      }
    },
    {
      "cell_type": "markdown",
      "source": [
        "Answer Here."
      ],
      "metadata": {
        "id": "uGZz5OrT1HH-"
      }
    },
    {
      "cell_type": "markdown",
      "source": [
        "### 3. Categorical Encoding"
      ],
      "metadata": {
        "id": "89xtkJwZ18nB"
      }
    },
    {
      "cell_type": "code",
      "source": [
        "# Encode your categorical columns"
      ],
      "metadata": {
        "id": "21JmIYMG2hEo"
      },
      "execution_count": null,
      "outputs": []
    },
    {
      "cell_type": "markdown",
      "source": [
        "#### What all categorical encoding techniques have you used & why did you use those techniques?"
      ],
      "metadata": {
        "id": "67NQN5KX2AMe"
      }
    },
    {
      "cell_type": "markdown",
      "source": [
        "Answer Here."
      ],
      "metadata": {
        "id": "UDaue5h32n_G"
      }
    },
    {
      "cell_type": "markdown",
      "source": [
        "### 4. Textual Data Preprocessing\n",
        "(It's mandatory for textual dataset i.e., NLP, Sentiment Analysis, Text Clustering etc.)"
      ],
      "metadata": {
        "id": "Iwf50b-R2tYG"
      }
    },
    {
      "cell_type": "markdown",
      "source": [
        "#### 1. Expand Contraction"
      ],
      "metadata": {
        "id": "GMQiZwjn3iu7"
      }
    },
    {
      "cell_type": "code",
      "source": [
        "# Expand Contraction"
      ],
      "metadata": {
        "id": "PTouz10C3oNN"
      },
      "execution_count": null,
      "outputs": []
    },
    {
      "cell_type": "markdown",
      "source": [
        "#### 2. Lower Casing"
      ],
      "metadata": {
        "id": "WVIkgGqN3qsr"
      }
    },
    {
      "cell_type": "code",
      "source": [
        "# Lower Casing"
      ],
      "metadata": {
        "id": "88JnJ1jN3w7j"
      },
      "execution_count": null,
      "outputs": []
    },
    {
      "cell_type": "markdown",
      "source": [
        "#### 3. Removing Punctuations"
      ],
      "metadata": {
        "id": "XkPnILGE3zoT"
      }
    },
    {
      "cell_type": "code",
      "source": [
        "# Remove Punctuations"
      ],
      "metadata": {
        "id": "vqbBqNaA33c0"
      },
      "execution_count": null,
      "outputs": []
    },
    {
      "cell_type": "markdown",
      "source": [
        "#### 4. Removing URLs & Removing words and digits contain digits."
      ],
      "metadata": {
        "id": "Hlsf0x5436Go"
      }
    },
    {
      "cell_type": "code",
      "source": [
        "# Remove URLs & Remove words and digits contain digits"
      ],
      "metadata": {
        "id": "2sxKgKxu4Ip3"
      },
      "execution_count": null,
      "outputs": []
    },
    {
      "cell_type": "markdown",
      "source": [
        "#### 5. Removing Stopwords & Removing White spaces"
      ],
      "metadata": {
        "id": "mT9DMSJo4nBL"
      }
    },
    {
      "cell_type": "code",
      "source": [
        "# Remove Stopwords"
      ],
      "metadata": {
        "id": "T2LSJh154s8W"
      },
      "execution_count": null,
      "outputs": []
    },
    {
      "cell_type": "code",
      "source": [
        "# Remove White spaces"
      ],
      "metadata": {
        "id": "EgLJGffy4vm0"
      },
      "execution_count": null,
      "outputs": []
    },
    {
      "cell_type": "markdown",
      "source": [
        "#### 6. Rephrase Text"
      ],
      "metadata": {
        "id": "c49ITxTc407N"
      }
    },
    {
      "cell_type": "code",
      "source": [
        "# Rephrase Text"
      ],
      "metadata": {
        "id": "foqY80Qu48N2"
      },
      "execution_count": null,
      "outputs": []
    },
    {
      "cell_type": "markdown",
      "source": [
        "#### 7. Tokenization"
      ],
      "metadata": {
        "id": "OeJFEK0N496M"
      }
    },
    {
      "cell_type": "code",
      "source": [
        "# Tokenization"
      ],
      "metadata": {
        "id": "ijx1rUOS5CUU"
      },
      "execution_count": null,
      "outputs": []
    },
    {
      "cell_type": "markdown",
      "source": [
        "#### 8. Text Normalization"
      ],
      "metadata": {
        "id": "9ExmJH0g5HBk"
      }
    },
    {
      "cell_type": "code",
      "source": [
        "# Normalizing Text (i.e., Stemming, Lemmatization etc.)"
      ],
      "metadata": {
        "id": "AIJ1a-Zc5PY8"
      },
      "execution_count": null,
      "outputs": []
    },
    {
      "cell_type": "markdown",
      "source": [
        "##### Which text normalization technique have you used and why?"
      ],
      "metadata": {
        "id": "cJNqERVU536h"
      }
    },
    {
      "cell_type": "markdown",
      "source": [
        "Answer Here."
      ],
      "metadata": {
        "id": "Z9jKVxE06BC1"
      }
    },
    {
      "cell_type": "markdown",
      "source": [
        "#### 9. Part of speech tagging"
      ],
      "metadata": {
        "id": "k5UmGsbsOxih"
      }
    },
    {
      "cell_type": "code",
      "source": [
        "# POS Taging"
      ],
      "metadata": {
        "id": "btT3ZJBAO6Ik"
      },
      "execution_count": null,
      "outputs": []
    },
    {
      "cell_type": "markdown",
      "source": [
        "#### 10. Text Vectorization"
      ],
      "metadata": {
        "id": "T0VqWOYE6DLQ"
      }
    },
    {
      "cell_type": "code",
      "source": [
        "# Vectorizing Text"
      ],
      "metadata": {
        "id": "yBRtdhth6JDE"
      },
      "execution_count": null,
      "outputs": []
    },
    {
      "cell_type": "markdown",
      "source": [
        "##### Which text vectorization technique have you used and why?"
      ],
      "metadata": {
        "id": "qBMux9mC6MCf"
      }
    },
    {
      "cell_type": "markdown",
      "source": [
        "Answer Here."
      ],
      "metadata": {
        "id": "su2EnbCh6UKQ"
      }
    },
    {
      "cell_type": "markdown",
      "source": [
        "### 4. Feature Manipulation & Selection"
      ],
      "metadata": {
        "id": "-oLEiFgy-5Pf"
      }
    },
    {
      "cell_type": "markdown",
      "source": [
        "#### 1. Feature Manipulation"
      ],
      "metadata": {
        "id": "C74aWNz2AliB"
      }
    },
    {
      "cell_type": "code",
      "source": [
        "# Manipulate Features to minimize feature correlation and create new features"
      ],
      "metadata": {
        "id": "h1qC4yhBApWC"
      },
      "execution_count": null,
      "outputs": []
    },
    {
      "cell_type": "markdown",
      "source": [
        "#### 2. Feature Selection"
      ],
      "metadata": {
        "id": "2DejudWSA-a0"
      }
    },
    {
      "cell_type": "code",
      "source": [
        "# Select your features wisely to avoid overfitting"
      ],
      "metadata": {
        "id": "YLhe8UmaBCEE"
      },
      "execution_count": null,
      "outputs": []
    },
    {
      "cell_type": "markdown",
      "source": [
        "##### What all feature selection methods have you used  and why?"
      ],
      "metadata": {
        "id": "pEMng2IbBLp7"
      }
    },
    {
      "cell_type": "markdown",
      "source": [
        "Answer Here."
      ],
      "metadata": {
        "id": "rb2Lh6Z8BgGs"
      }
    },
    {
      "cell_type": "markdown",
      "source": [
        "##### Which all features you found important and why?"
      ],
      "metadata": {
        "id": "rAdphbQ9Bhjc"
      }
    },
    {
      "cell_type": "markdown",
      "source": [
        "Answer Here."
      ],
      "metadata": {
        "id": "fGgaEstsBnaf"
      }
    },
    {
      "cell_type": "markdown",
      "source": [
        "### 5. Data Transformation"
      ],
      "metadata": {
        "id": "TNVZ9zx19K6k"
      }
    },
    {
      "cell_type": "markdown",
      "source": [
        "#### Do you think that your data needs to be transformed? If yes, which transformation have you used. Explain Why?"
      ],
      "metadata": {
        "id": "nqoHp30x9hH9"
      }
    },
    {
      "cell_type": "code",
      "source": [
        "# Transform Your data"
      ],
      "metadata": {
        "id": "I6quWQ1T9rtH"
      },
      "execution_count": null,
      "outputs": []
    },
    {
      "cell_type": "markdown",
      "source": [
        "### 6. Data Scaling"
      ],
      "metadata": {
        "id": "rMDnDkt2B6du"
      }
    },
    {
      "cell_type": "code",
      "source": [
        "# Scaling your data"
      ],
      "metadata": {
        "id": "dL9LWpySC6x_"
      },
      "execution_count": null,
      "outputs": []
    },
    {
      "cell_type": "markdown",
      "source": [
        "##### Which method have you used to scale you data and why?"
      ],
      "metadata": {
        "id": "yiiVWRdJDDil"
      }
    },
    {
      "cell_type": "markdown",
      "source": [
        "### 7. Dimesionality Reduction"
      ],
      "metadata": {
        "id": "1UUpS68QDMuG"
      }
    },
    {
      "cell_type": "markdown",
      "source": [
        "##### Do you think that dimensionality reduction is needed? Explain Why?"
      ],
      "metadata": {
        "id": "kexQrXU-DjzY"
      }
    },
    {
      "cell_type": "markdown",
      "source": [
        "Answer Here."
      ],
      "metadata": {
        "id": "GGRlBsSGDtTQ"
      }
    },
    {
      "cell_type": "code",
      "source": [
        "# DImensionality Reduction (If needed)"
      ],
      "metadata": {
        "id": "kQfvxBBHDvCa"
      },
      "execution_count": null,
      "outputs": []
    },
    {
      "cell_type": "markdown",
      "source": [
        "##### Which dimensionality reduction technique have you used and why? (If dimensionality reduction done on dataset.)"
      ],
      "metadata": {
        "id": "T5CmagL3EC8N"
      }
    },
    {
      "cell_type": "markdown",
      "source": [
        "Answer Here."
      ],
      "metadata": {
        "id": "ZKr75IDuEM7t"
      }
    },
    {
      "cell_type": "markdown",
      "source": [
        "### 8. Data Splitting"
      ],
      "metadata": {
        "id": "BhH2vgX9EjGr"
      }
    },
    {
      "cell_type": "code",
      "source": [
        "# Split your data to train and test. Choose Splitting ratio wisely."
      ],
      "metadata": {
        "id": "0CTyd2UwEyNM"
      },
      "execution_count": null,
      "outputs": []
    },
    {
      "cell_type": "markdown",
      "source": [
        "##### What data splitting ratio have you used and why?"
      ],
      "metadata": {
        "id": "qjKvONjwE8ra"
      }
    },
    {
      "cell_type": "markdown",
      "source": [
        "Answer Here."
      ],
      "metadata": {
        "id": "Y2lJ8cobFDb_"
      }
    },
    {
      "cell_type": "markdown",
      "source": [
        "### 9. Handling Imbalanced Dataset"
      ],
      "metadata": {
        "id": "P1XJ9OREExlT"
      }
    },
    {
      "cell_type": "markdown",
      "source": [
        "##### Do you think the dataset is imbalanced? Explain Why."
      ],
      "metadata": {
        "id": "VFOzZv6IFROw"
      }
    },
    {
      "cell_type": "markdown",
      "source": [
        "Answer Here."
      ],
      "metadata": {
        "id": "GeKDIv7pFgcC"
      }
    },
    {
      "cell_type": "code",
      "source": [
        "# Handling Imbalanced Dataset (If needed)"
      ],
      "metadata": {
        "id": "nQsRhhZLFiDs"
      },
      "execution_count": null,
      "outputs": []
    },
    {
      "cell_type": "markdown",
      "source": [
        "##### What technique did you use to handle the imbalance dataset and why? (If needed to be balanced)"
      ],
      "metadata": {
        "id": "TIqpNgepFxVj"
      }
    },
    {
      "cell_type": "markdown",
      "source": [
        "Answer Here."
      ],
      "metadata": {
        "id": "qbet1HwdGDTz"
      }
    },
    {
      "cell_type": "markdown",
      "source": [
        "## ***7. ML Model Implementation***"
      ],
      "metadata": {
        "id": "VfCC591jGiD4"
      }
    },
    {
      "cell_type": "markdown",
      "source": [
        "### ML Model - 1"
      ],
      "metadata": {
        "id": "OB4l2ZhMeS1U"
      }
    },
    {
      "cell_type": "code",
      "source": [
        "# ML Model - 1 Implementation\n",
        "\n",
        "# Fit the Algorithm\n",
        "\n",
        "# Predict on the model"
      ],
      "metadata": {
        "id": "7ebyywQieS1U"
      },
      "execution_count": null,
      "outputs": []
    },
    {
      "cell_type": "markdown",
      "source": [
        "#### 1. Explain the ML Model used and it's performance using Evaluation metric Score Chart."
      ],
      "metadata": {
        "id": "ArJBuiUVfxKd"
      }
    },
    {
      "cell_type": "code",
      "source": [
        "# Visualizing evaluation Metric Score chart"
      ],
      "metadata": {
        "id": "rqD5ZohzfxKe"
      },
      "execution_count": null,
      "outputs": []
    },
    {
      "cell_type": "markdown",
      "source": [
        "#### 2. Cross- Validation & Hyperparameter Tuning"
      ],
      "metadata": {
        "id": "4qY1EAkEfxKe"
      }
    },
    {
      "cell_type": "code",
      "source": [
        "# ML Model - 1 Implementation with hyperparameter optimization techniques (i.e., GridSearch CV, RandomSearch CV, Bayesian Optimization etc.)\n",
        "\n",
        "# Fit the Algorithm\n",
        "\n",
        "# Predict on the model"
      ],
      "metadata": {
        "id": "Dy61ujd6fxKe"
      },
      "execution_count": null,
      "outputs": []
    },
    {
      "cell_type": "markdown",
      "source": [
        "##### Which hyperparameter optimization technique have you used and why?"
      ],
      "metadata": {
        "id": "PiV4Ypx8fxKe"
      }
    },
    {
      "cell_type": "markdown",
      "source": [
        "Answer Here."
      ],
      "metadata": {
        "id": "negyGRa7fxKf"
      }
    },
    {
      "cell_type": "markdown",
      "source": [
        "##### Have you seen any improvement? Note down the improvement with updates Evaluation metric Score Chart."
      ],
      "metadata": {
        "id": "TfvqoZmBfxKf"
      }
    },
    {
      "cell_type": "markdown",
      "source": [
        "Answer Here."
      ],
      "metadata": {
        "id": "OaLui8CcfxKf"
      }
    },
    {
      "cell_type": "markdown",
      "source": [
        "### ML Model - 2"
      ],
      "metadata": {
        "id": "dJ2tPlVmpsJ0"
      }
    },
    {
      "cell_type": "markdown",
      "source": [
        "#### 1. Explain the ML Model used and it's performance using Evaluation metric Score Chart."
      ],
      "metadata": {
        "id": "JWYfwnehpsJ1"
      }
    },
    {
      "cell_type": "code",
      "source": [
        "# Visualizing evaluation Metric Score chart"
      ],
      "metadata": {
        "id": "yEl-hgQWpsJ1"
      },
      "execution_count": null,
      "outputs": []
    },
    {
      "cell_type": "markdown",
      "source": [
        "#### 2. Cross- Validation & Hyperparameter Tuning"
      ],
      "metadata": {
        "id": "-jK_YjpMpsJ2"
      }
    },
    {
      "cell_type": "code",
      "source": [
        "# ML Model - 1 Implementation with hyperparameter optimization techniques (i.e., GridSearch CV, RandomSearch CV, Bayesian Optimization etc.)\n",
        "\n",
        "# Fit the Algorithm\n",
        "\n",
        "# Predict on the model"
      ],
      "metadata": {
        "id": "Dn0EOfS6psJ2"
      },
      "execution_count": null,
      "outputs": []
    },
    {
      "cell_type": "markdown",
      "source": [
        "##### Which hyperparameter optimization technique have you used and why?"
      ],
      "metadata": {
        "id": "HAih1iBOpsJ2"
      }
    },
    {
      "cell_type": "markdown",
      "source": [
        "Answer Here."
      ],
      "metadata": {
        "id": "9kBgjYcdpsJ2"
      }
    },
    {
      "cell_type": "markdown",
      "source": [
        "##### Have you seen any improvement? Note down the improvement with updates Evaluation metric Score Chart."
      ],
      "metadata": {
        "id": "zVGeBEFhpsJ2"
      }
    },
    {
      "cell_type": "markdown",
      "source": [
        "Answer Here."
      ],
      "metadata": {
        "id": "74yRdG6UpsJ3"
      }
    },
    {
      "cell_type": "markdown",
      "source": [
        "#### 3. Explain each evaluation metric's indication towards business and the business impact pf the ML model used."
      ],
      "metadata": {
        "id": "bmKjuQ-FpsJ3"
      }
    },
    {
      "cell_type": "markdown",
      "source": [
        "Answer Here."
      ],
      "metadata": {
        "id": "BDKtOrBQpsJ3"
      }
    },
    {
      "cell_type": "markdown",
      "source": [
        "### ML Model - 3"
      ],
      "metadata": {
        "id": "Fze-IPXLpx6K"
      }
    },
    {
      "cell_type": "code",
      "source": [
        "# ML Model - 3 Implementation\n",
        "\n",
        "# Fit the Algorithm\n",
        "\n",
        "# Predict on the model"
      ],
      "metadata": {
        "id": "FFrSXAtrpx6M"
      },
      "execution_count": null,
      "outputs": []
    },
    {
      "cell_type": "markdown",
      "source": [
        "#### 1. Explain the ML Model used and it's performance using Evaluation metric Score Chart."
      ],
      "metadata": {
        "id": "7AN1z2sKpx6M"
      }
    },
    {
      "cell_type": "code",
      "source": [
        "# Visualizing evaluation Metric Score chart"
      ],
      "metadata": {
        "id": "xIY4lxxGpx6M"
      },
      "execution_count": null,
      "outputs": []
    },
    {
      "cell_type": "markdown",
      "source": [
        "#### 2. Cross- Validation & Hyperparameter Tuning"
      ],
      "metadata": {
        "id": "9PIHJqyupx6M"
      }
    },
    {
      "cell_type": "code",
      "source": [
        "# ML Model - 3 Implementation with hyperparameter optimization techniques (i.e., GridSearch CV, RandomSearch CV, Bayesian Optimization etc.)\n",
        "\n",
        "# Fit the Algorithm\n",
        "\n",
        "# Predict on the model"
      ],
      "metadata": {
        "id": "eSVXuaSKpx6M"
      },
      "execution_count": null,
      "outputs": []
    },
    {
      "cell_type": "markdown",
      "source": [
        "##### Which hyperparameter optimization technique have you used and why?"
      ],
      "metadata": {
        "id": "_-qAgymDpx6N"
      }
    },
    {
      "cell_type": "markdown",
      "source": [
        "Answer Here."
      ],
      "metadata": {
        "id": "lQMffxkwpx6N"
      }
    },
    {
      "cell_type": "markdown",
      "source": [
        "##### Have you seen any improvement? Note down the improvement with updates Evaluation metric Score Chart."
      ],
      "metadata": {
        "id": "Z-hykwinpx6N"
      }
    },
    {
      "cell_type": "markdown",
      "source": [
        "Answer Here."
      ],
      "metadata": {
        "id": "MzVzZC6opx6N"
      }
    },
    {
      "cell_type": "markdown",
      "source": [
        "### 1. Which Evaluation metrics did you consider for a positive business impact and why?"
      ],
      "metadata": {
        "id": "h_CCil-SKHpo"
      }
    },
    {
      "cell_type": "markdown",
      "source": [
        "Answer Here."
      ],
      "metadata": {
        "id": "jHVz9hHDKFms"
      }
    },
    {
      "cell_type": "markdown",
      "source": [
        "### 2. Which ML model did you choose from the above created models as your final prediction model and why?"
      ],
      "metadata": {
        "id": "cBFFvTBNJzUa"
      }
    },
    {
      "cell_type": "markdown",
      "source": [
        "Answer Here."
      ],
      "metadata": {
        "id": "6ksF5Q1LKTVm"
      }
    },
    {
      "cell_type": "markdown",
      "source": [
        "### 3. Explain the model which you have used and the feature importance using any model explainability tool?"
      ],
      "metadata": {
        "id": "HvGl1hHyA_VK"
      }
    },
    {
      "cell_type": "markdown",
      "source": [
        "Answer Here."
      ],
      "metadata": {
        "id": "YnvVTiIxBL-C"
      }
    },
    {
      "cell_type": "markdown",
      "source": [
        "## ***8.*** ***Future Work (Optional)***"
      ],
      "metadata": {
        "id": "EyNgTHvd2WFk"
      }
    },
    {
      "cell_type": "markdown",
      "source": [
        "### 1. Save the best performing ml model in a pickle file or joblib file format for deployment process.\n"
      ],
      "metadata": {
        "id": "KH5McJBi2d8v"
      }
    },
    {
      "cell_type": "code",
      "source": [
        "# Save the File"
      ],
      "metadata": {
        "id": "bQIANRl32f4J"
      },
      "execution_count": null,
      "outputs": []
    },
    {
      "cell_type": "markdown",
      "source": [
        "### 2. Again Load the saved model file and try to predict unseen data for a sanity check.\n"
      ],
      "metadata": {
        "id": "iW_Lq9qf2h6X"
      }
    },
    {
      "cell_type": "code",
      "source": [
        "# Load the File and predict unseen data."
      ],
      "metadata": {
        "id": "oEXk9ydD2nVC"
      },
      "execution_count": null,
      "outputs": []
    },
    {
      "cell_type": "markdown",
      "source": [
        "### ***Congrats! Your model is successfully created and ready for deployment on a live server for a real user interaction !!!***"
      ],
      "metadata": {
        "id": "-Kee-DAl2viO"
      }
    },
    {
      "cell_type": "markdown",
      "source": [
        "# **Conclusion**"
      ],
      "metadata": {
        "id": "gCX9965dhzqZ"
      }
    },
    {
      "cell_type": "markdown",
      "source": [
        "Write the conclusion here."
      ],
      "metadata": {
        "id": "Fjb1IsQkh3yE"
      }
    },
    {
      "cell_type": "markdown",
      "source": [
        "### ***Hurrah! You have successfully completed your Machine Learning Capstone Project !!!***"
      ],
      "metadata": {
        "id": "gIfDvo9L0UH2"
      }
    }
  ]
}